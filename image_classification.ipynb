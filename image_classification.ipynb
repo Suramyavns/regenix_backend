{
 "cells": [
  {
   "cell_type": "code",
   "execution_count": 1,
   "id": "d1c24c68-9169-4101-9205-f5afb46c4131",
   "metadata": {},
   "outputs": [
    {
     "name": "stdout",
     "output_type": "stream",
     "text": [
      "Requirement already satisfied: ftfy in ./igp/lib/python3.12/site-packages (6.3.1)\n",
      "Requirement already satisfied: regex in ./igp/lib/python3.12/site-packages (2024.11.6)\n",
      "Requirement already satisfied: tqdm in ./igp/lib/python3.12/site-packages (4.67.1)\n",
      "Requirement already satisfied: wcwidth in ./igp/lib/python3.12/site-packages (from ftfy) (0.2.13)\n",
      "\n",
      "\u001b[1m[\u001b[0m\u001b[34;49mnotice\u001b[0m\u001b[1;39;49m]\u001b[0m\u001b[39;49m A new release of pip is available: \u001b[0m\u001b[31;49m24.2\u001b[0m\u001b[39;49m -> \u001b[0m\u001b[32;49m25.0\u001b[0m\n",
      "\u001b[1m[\u001b[0m\u001b[34;49mnotice\u001b[0m\u001b[1;39;49m]\u001b[0m\u001b[39;49m To update, run: \u001b[0m\u001b[32;49mpip install --upgrade pip\u001b[0m\n",
      "Collecting git+https://github.com/openai/CLIP.git\n",
      "  Cloning https://github.com/openai/CLIP.git to /tmp/pip-req-build-fnh3e5_f\n",
      "  Running command git clone --filter=blob:none --quiet https://github.com/openai/CLIP.git /tmp/pip-req-build-fnh3e5_f\n",
      "  Resolved https://github.com/openai/CLIP.git to commit dcba3cb2e2827b402d2701e7e1c7d9fed8a20ef1\n",
      "  Installing build dependencies ... \u001b[?25ldone\n",
      "\u001b[?25h  Getting requirements to build wheel ... \u001b[?25ldone\n",
      "\u001b[?25h  Preparing metadata (pyproject.toml) ... \u001b[?25ldone\n",
      "\u001b[?25hRequirement already satisfied: ftfy in ./igp/lib/python3.12/site-packages (from clip==1.0) (6.3.1)\n",
      "Requirement already satisfied: packaging in ./igp/lib/python3.12/site-packages (from clip==1.0) (24.2)\n",
      "Requirement already satisfied: regex in ./igp/lib/python3.12/site-packages (from clip==1.0) (2024.11.6)\n",
      "Requirement already satisfied: tqdm in ./igp/lib/python3.12/site-packages (from clip==1.0) (4.67.1)\n",
      "Requirement already satisfied: torch in ./igp/lib/python3.12/site-packages (from clip==1.0) (2.6.0)\n",
      "Requirement already satisfied: torchvision in ./igp/lib/python3.12/site-packages (from clip==1.0) (0.21.0)\n",
      "Requirement already satisfied: wcwidth in ./igp/lib/python3.12/site-packages (from ftfy->clip==1.0) (0.2.13)\n",
      "Requirement already satisfied: filelock in ./igp/lib/python3.12/site-packages (from torch->clip==1.0) (3.17.0)\n",
      "Requirement already satisfied: typing-extensions>=4.10.0 in ./igp/lib/python3.12/site-packages (from torch->clip==1.0) (4.12.2)\n",
      "Requirement already satisfied: networkx in ./igp/lib/python3.12/site-packages (from torch->clip==1.0) (3.4.2)\n",
      "Requirement already satisfied: jinja2 in ./igp/lib/python3.12/site-packages (from torch->clip==1.0) (3.1.5)\n",
      "Requirement already satisfied: fsspec in ./igp/lib/python3.12/site-packages (from torch->clip==1.0) (2024.12.0)\n",
      "Requirement already satisfied: nvidia-cuda-nvrtc-cu12==12.4.127 in ./igp/lib/python3.12/site-packages (from torch->clip==1.0) (12.4.127)\n",
      "Requirement already satisfied: nvidia-cuda-runtime-cu12==12.4.127 in ./igp/lib/python3.12/site-packages (from torch->clip==1.0) (12.4.127)\n",
      "Requirement already satisfied: nvidia-cuda-cupti-cu12==12.4.127 in ./igp/lib/python3.12/site-packages (from torch->clip==1.0) (12.4.127)\n",
      "Requirement already satisfied: nvidia-cudnn-cu12==9.1.0.70 in ./igp/lib/python3.12/site-packages (from torch->clip==1.0) (9.1.0.70)\n",
      "Requirement already satisfied: nvidia-cublas-cu12==12.4.5.8 in ./igp/lib/python3.12/site-packages (from torch->clip==1.0) (12.4.5.8)\n",
      "Requirement already satisfied: nvidia-cufft-cu12==11.2.1.3 in ./igp/lib/python3.12/site-packages (from torch->clip==1.0) (11.2.1.3)\n",
      "Requirement already satisfied: nvidia-curand-cu12==10.3.5.147 in ./igp/lib/python3.12/site-packages (from torch->clip==1.0) (10.3.5.147)\n",
      "Requirement already satisfied: nvidia-cusolver-cu12==11.6.1.9 in ./igp/lib/python3.12/site-packages (from torch->clip==1.0) (11.6.1.9)\n",
      "Requirement already satisfied: nvidia-cusparse-cu12==12.3.1.170 in ./igp/lib/python3.12/site-packages (from torch->clip==1.0) (12.3.1.170)\n",
      "Requirement already satisfied: nvidia-cusparselt-cu12==0.6.2 in ./igp/lib/python3.12/site-packages (from torch->clip==1.0) (0.6.2)\n",
      "Requirement already satisfied: nvidia-nccl-cu12==2.21.5 in ./igp/lib/python3.12/site-packages (from torch->clip==1.0) (2.21.5)\n",
      "Requirement already satisfied: nvidia-nvtx-cu12==12.4.127 in ./igp/lib/python3.12/site-packages (from torch->clip==1.0) (12.4.127)\n",
      "Requirement already satisfied: nvidia-nvjitlink-cu12==12.4.127 in ./igp/lib/python3.12/site-packages (from torch->clip==1.0) (12.4.127)\n",
      "Requirement already satisfied: triton==3.2.0 in ./igp/lib/python3.12/site-packages (from torch->clip==1.0) (3.2.0)\n",
      "Requirement already satisfied: setuptools in ./igp/lib/python3.12/site-packages (from torch->clip==1.0) (75.8.0)\n",
      "Requirement already satisfied: sympy==1.13.1 in ./igp/lib/python3.12/site-packages (from torch->clip==1.0) (1.13.1)\n",
      "Requirement already satisfied: mpmath<1.4,>=1.1.0 in ./igp/lib/python3.12/site-packages (from sympy==1.13.1->torch->clip==1.0) (1.3.0)\n",
      "Requirement already satisfied: numpy in ./igp/lib/python3.12/site-packages (from torchvision->clip==1.0) (2.2.2)\n",
      "Requirement already satisfied: pillow!=8.3.*,>=5.3.0 in ./igp/lib/python3.12/site-packages (from torchvision->clip==1.0) (11.1.0)\n",
      "Requirement already satisfied: MarkupSafe>=2.0 in ./igp/lib/python3.12/site-packages (from jinja2->torch->clip==1.0) (3.0.2)\n",
      "\n",
      "\u001b[1m[\u001b[0m\u001b[34;49mnotice\u001b[0m\u001b[1;39;49m]\u001b[0m\u001b[39;49m A new release of pip is available: \u001b[0m\u001b[31;49m24.2\u001b[0m\u001b[39;49m -> \u001b[0m\u001b[32;49m25.0\u001b[0m\n",
      "\u001b[1m[\u001b[0m\u001b[34;49mnotice\u001b[0m\u001b[1;39;49m]\u001b[0m\u001b[39;49m To update, run: \u001b[0m\u001b[32;49mpip install --upgrade pip\u001b[0m\n"
     ]
    }
   ],
   "source": [
    "# !conda install --yes -c pytorch pytorch=1.7.1 torchvision cudatoolkit=11.0\n",
    "!pip install ftfy regex tqdm\n",
    "!pip install git+https://github.com/openai/CLIP.git"
   ]
  },
  {
   "cell_type": "code",
   "execution_count": null,
   "id": "2d4115b1-419f-4bf5-b908-c1954370ed52",
   "metadata": {},
   "outputs": [
    {
     "name": "stdout",
     "output_type": "stream",
     "text": [
      "['RN50', 'RN101', 'RN50x4', 'RN50x16', 'RN50x64', 'ViT-B/32', 'ViT-B/16', 'ViT-L/14', 'ViT-L/14@336px']\n"
     ]
    }
   ],
   "source": [
    "import torch\n",
    "import clip\n",
    "from PIL import Image\n",
    "\n",
    "device = \"cuda\" if torch.cuda.is_available() else \"cpu\"\n",
    "print(clip.available_models())\n"
   ]
  },
  {
   "cell_type": "code",
   "execution_count": 3,
   "id": "bf93742a",
   "metadata": {},
   "outputs": [
    {
     "name": "stderr",
     "output_type": "stream",
     "text": [
      "100%|███████████████████████████████████████| 244M/244M [00:35<00:00, 7.19MiB/s]\n"
     ]
    }
   ],
   "source": [
    "\n",
    "model, preprocess = clip.load(\"RN50\", device=device)\n",
    "\n",
    "task_description = [\"A bookshelf placed against a wall\"]\n",
    "\n",
    "# Load and preprocess user-uploaded image\n",
    "image = preprocess(Image.open(\"upload.jpeg\")).unsqueeze(0).to(device)\n",
    "\n",
    "# Convert text to CLIP embeddings\n",
    "text_tokens = clip.tokenize(task_description).to(device)\n",
    "\n",
    "# Extract features\n",
    "with torch.no_grad():\n",
    "    image_features = model.encode_image(image)\n",
    "    text_features = model.encode_text(text_tokens)\n",
    "\n",
    "# Normalize features\n",
    "image_features /= image_features.norm(dim=-1, keepdim=True)\n",
    "text_features /= text_features.norm(dim=-1, keepdim=True)"
   ]
  },
  {
   "cell_type": "code",
   "execution_count": 4,
   "id": "c2cdd453",
   "metadata": {},
   "outputs": [
    {
     "name": "stdout",
     "output_type": "stream",
     "text": [
      "Similarity Score: 0.2280\n"
     ]
    }
   ],
   "source": [
    "# Compute cosine similarity between text and image\n",
    "similarity_score = (text_features @ image_features.T).item()\n",
    "print(f\"Similarity Score: {similarity_score:.4f}\")\n"
   ]
  }
 ],
 "metadata": {
  "kernelspec": {
   "display_name": "igp",
   "language": "python",
   "name": "python3"
  },
  "language_info": {
   "codemirror_mode": {
    "name": "ipython",
    "version": 3
   },
   "file_extension": ".py",
   "mimetype": "text/x-python",
   "name": "python",
   "nbconvert_exporter": "python",
   "pygments_lexer": "ipython3",
   "version": "3.12.7"
  }
 },
 "nbformat": 4,
 "nbformat_minor": 5
}
